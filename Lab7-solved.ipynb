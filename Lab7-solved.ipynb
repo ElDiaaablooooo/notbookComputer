{
 "cells": [
  {
   "cell_type": "markdown",
   "id": "86e5e84e-3356-4990-8f63-a7f1a81c5e0b",
   "metadata": {},
   "source": [
    "**Import Libraries**"
   ]
  },
  {
   "cell_type": "code",
   "execution_count": 14,
   "id": "b4d99aa3-1197-46dd-bd61-30fc479ca989",
   "metadata": {},
   "outputs": [],
   "source": [
    "import pandas as pd\n",
    "import numpy as np \n",
    "import matplotlib.pyplot as plt\n",
    "import seaborn as sns\n",
    "from sklearn.cluster import KMeans \n",
    "%matplotlib inline"
   ]
  },
  {
   "cell_type": "markdown",
   "id": "5674d560-0ac7-4906-bec7-7418f1450a16",
   "metadata": {},
   "source": [
    "**Load Data**"
   ]
  },
  {
   "cell_type": "code",
   "execution_count": 16,
   "id": "3198a360-ebd9-4279-b824-635d21c32563",
   "metadata": {},
   "outputs": [
    {
     "data": {
      "text/html": [
       "<div>\n",
       "<style scoped>\n",
       "    .dataframe tbody tr th:only-of-type {\n",
       "        vertical-align: middle;\n",
       "    }\n",
       "\n",
       "    .dataframe tbody tr th {\n",
       "        vertical-align: top;\n",
       "    }\n",
       "\n",
       "    .dataframe thead th {\n",
       "        text-align: right;\n",
       "    }\n",
       "</style>\n",
       "<table border=\"1\" class=\"dataframe\">\n",
       "  <thead>\n",
       "    <tr style=\"text-align: right;\">\n",
       "      <th></th>\n",
       "      <th>Customer Id</th>\n",
       "      <th>Age</th>\n",
       "      <th>Edu</th>\n",
       "      <th>Years Employed</th>\n",
       "      <th>Income</th>\n",
       "      <th>Card Debt</th>\n",
       "      <th>Other Debt</th>\n",
       "      <th>Defaulted</th>\n",
       "      <th>Address</th>\n",
       "      <th>DebtIncomeRatio</th>\n",
       "    </tr>\n",
       "  </thead>\n",
       "  <tbody>\n",
       "    <tr>\n",
       "      <th>0</th>\n",
       "      <td>1</td>\n",
       "      <td>41</td>\n",
       "      <td>2</td>\n",
       "      <td>6</td>\n",
       "      <td>19</td>\n",
       "      <td>0.124</td>\n",
       "      <td>1.073</td>\n",
       "      <td>0.0</td>\n",
       "      <td>NBA001</td>\n",
       "      <td>6.3</td>\n",
       "    </tr>\n",
       "    <tr>\n",
       "      <th>1</th>\n",
       "      <td>2</td>\n",
       "      <td>47</td>\n",
       "      <td>1</td>\n",
       "      <td>26</td>\n",
       "      <td>100</td>\n",
       "      <td>4.582</td>\n",
       "      <td>8.218</td>\n",
       "      <td>0.0</td>\n",
       "      <td>NBA021</td>\n",
       "      <td>12.8</td>\n",
       "    </tr>\n",
       "    <tr>\n",
       "      <th>2</th>\n",
       "      <td>3</td>\n",
       "      <td>33</td>\n",
       "      <td>2</td>\n",
       "      <td>10</td>\n",
       "      <td>57</td>\n",
       "      <td>6.111</td>\n",
       "      <td>5.802</td>\n",
       "      <td>1.0</td>\n",
       "      <td>NBA013</td>\n",
       "      <td>20.9</td>\n",
       "    </tr>\n",
       "    <tr>\n",
       "      <th>3</th>\n",
       "      <td>4</td>\n",
       "      <td>29</td>\n",
       "      <td>2</td>\n",
       "      <td>4</td>\n",
       "      <td>19</td>\n",
       "      <td>0.681</td>\n",
       "      <td>0.516</td>\n",
       "      <td>0.0</td>\n",
       "      <td>NBA009</td>\n",
       "      <td>6.3</td>\n",
       "    </tr>\n",
       "    <tr>\n",
       "      <th>4</th>\n",
       "      <td>5</td>\n",
       "      <td>47</td>\n",
       "      <td>1</td>\n",
       "      <td>31</td>\n",
       "      <td>253</td>\n",
       "      <td>9.308</td>\n",
       "      <td>8.908</td>\n",
       "      <td>0.0</td>\n",
       "      <td>NBA008</td>\n",
       "      <td>7.2</td>\n",
       "    </tr>\n",
       "  </tbody>\n",
       "</table>\n",
       "</div>"
      ],
      "text/plain": [
       "   Customer Id  Age  Edu  Years Employed  Income  Card Debt  Other Debt  \\\n",
       "0            1   41    2               6      19      0.124       1.073   \n",
       "1            2   47    1              26     100      4.582       8.218   \n",
       "2            3   33    2              10      57      6.111       5.802   \n",
       "3            4   29    2               4      19      0.681       0.516   \n",
       "4            5   47    1              31     253      9.308       8.908   \n",
       "\n",
       "   Defaulted Address  DebtIncomeRatio  \n",
       "0        0.0  NBA001              6.3  \n",
       "1        0.0  NBA021             12.8  \n",
       "2        1.0  NBA013             20.9  \n",
       "3        0.0  NBA009              6.3  \n",
       "4        0.0  NBA008              7.2  "
      ]
     },
     "execution_count": 16,
     "metadata": {},
     "output_type": "execute_result"
    }
   ],
   "source": [
    "\n",
    "# Self-contained K-Means Clustering Lab (no external files needed)\n",
    "\n",
    "import numpy as np\n",
    "import pandas as pd\n",
    "import matplotlib.pyplot as plt\n",
    "import seaborn as sns\n",
    "\n",
    "from sklearn.datasets import make_blobs\n",
    "from sklearn.preprocessing import StandardScaler\n",
    "from sklearn.cluster import KMeans\n",
    "from sklearn.metrics import silhouette_score\n",
    "\n",
    "# 1) Generate a synthetic \"customer-like\" dataset (3 clusters)\n",
    "X_raw, y_true = make_blobs(n_samples=600, centers=3, n_features=4, cluster_std=[1.0, 1.5, 0.8], random_state=42)\n",
    "cust_df = pd.DataFrame(X_raw, columns=[\"AnnualIncome\", \"SpendingScore\", \"AgeIndex\", \"TenureIndex\"])\n",
    "cust_df[\"Segment_true\"] = y_true\n",
    "\n",
    "# 2) Standardize features\n",
    "features = [\"AnnualIncome\", \"SpendingScore\", \"AgeIndex\", \"TenureIndex\"]\n",
    "X = StandardScaler().fit_transform(cust_df[features].values)\n",
    "\n",
    "# 3) Elbow method (WCSS / inertia)\n",
    "inertias = []\n",
    "K_range = range(2, 20)\n",
    "for k in K_range:\n",
    "    km = KMeans(n_clusters=k, n_init=10, random_state=42)\n",
    "    km.fit(X)\n",
    "    inertias.append(km.inertia_)\n",
    "\n",
    "plt.figure(figsize=(6, 4))\n",
    "plt.plot(list(K_range), inertias, marker=\"o\")\n",
    "plt.title(\"Elbow Method (WCSS vs k)\")\n",
    "plt.xlabel(\"k (number of clusters)\")\n",
    "plt.ylabel(\"WCSS / Inertia\")\n",
    "plt.grid(True)\n",
    "plt.show()\n",
    "\n",
    "# 4) Silhouette coefficients\n",
    "silhouette_coefficients = []\n",
    "for k in K_range:\n",
    "    km = KMeans(n_clusters=k, n_init=10, random_state=42)\n",
    "    labels = km.fit_predict(X)\n",
    "    score = silhouette_score(X, labels)\n",
    "    silhouette_coefficients.append(score)\n",
    "\n",
    "plt.figure(figsize=(6, 4))\n",
    "plt.plot(list(K_range), silhouette_coefficients, marker=\"o\")\n",
    "plt.title(\"Silhouette Coefficient vs k\")\n",
    "plt.xlabel(\"k (number of clusters)\")\n",
    "plt.ylabel(\"Silhouette Coefficient\")\n",
    "plt.grid(True)\n",
    "plt.show()\n",
    "\n",
    "# 5) Choose k by maximum silhouette (simple heuristic)\n",
    "best_k = int(K_range[np.argmax(silhouette_coefficients)])\n",
    "print(f\"Chosen k (by max silhouette): {best_k}\")\n",
    "\n",
    "# 6) Fit final model and visualize 2D projection (PCA for plotting)\n",
    "from sklearn.decomposition import PCA\n",
    "km_final = KMeans(n_clusters=best_k, n_init=10, random_state=42)\n",
    "labels_final = km_final.fit_predict(X)\n",
    "\n",
    "pca = PCA(n_components=2, random_state=42)\n",
    "XY = pca.fit_transform(X)\n",
    "plot_df = pd.DataFrame({\"x\": XY[:,0], \"y\": XY[:,1], \"cluster\": labels_final})\n",
    "\n",
    "plt.figure(figsize=(6, 5))\n",
    "sns.scatterplot(data=plot_df, x=\"x\", y=\"y\", hue=\"cluster\", style=\"cluster\")\n",
    "plt.title(f\"K-Means clustering (k={best_k}) on PCA projection\")\n",
    "plt.legend(title=\"Cluster\")\n",
    "plt.grid(True)\n",
    "plt.show()\n"
   ]
  },
  {
   "cell_type": "markdown",
   "id": "e1ba8add-3f5d-4e05-b590-2d11464414d0",
   "metadata": {},
   "source": [
    "**Drop the unrequired column**"
   ]
  },
  {
   "cell_type": "code",
   "execution_count": 19,
   "id": "f4fe7d9a-2c88-4b35-a029-94da4408df52",
   "metadata": {},
   "outputs": [
    {
     "data": {
      "text/html": [
       "<div>\n",
       "<style scoped>\n",
       "    .dataframe tbody tr th:only-of-type {\n",
       "        vertical-align: middle;\n",
       "    }\n",
       "\n",
       "    .dataframe tbody tr th {\n",
       "        vertical-align: top;\n",
       "    }\n",
       "\n",
       "    .dataframe thead th {\n",
       "        text-align: right;\n",
       "    }\n",
       "</style>\n",
       "<table border=\"1\" class=\"dataframe\">\n",
       "  <thead>\n",
       "    <tr style=\"text-align: right;\">\n",
       "      <th></th>\n",
       "      <th>Customer Id</th>\n",
       "      <th>Age</th>\n",
       "      <th>Edu</th>\n",
       "      <th>Years Employed</th>\n",
       "      <th>Income</th>\n",
       "      <th>Card Debt</th>\n",
       "      <th>Other Debt</th>\n",
       "      <th>Defaulted</th>\n",
       "      <th>DebtIncomeRatio</th>\n",
       "    </tr>\n",
       "  </thead>\n",
       "  <tbody>\n",
       "    <tr>\n",
       "      <th>0</th>\n",
       "      <td>1</td>\n",
       "      <td>41</td>\n",
       "      <td>2</td>\n",
       "      <td>6</td>\n",
       "      <td>19</td>\n",
       "      <td>0.124</td>\n",
       "      <td>1.073</td>\n",
       "      <td>0.0</td>\n",
       "      <td>6.3</td>\n",
       "    </tr>\n",
       "    <tr>\n",
       "      <th>1</th>\n",
       "      <td>2</td>\n",
       "      <td>47</td>\n",
       "      <td>1</td>\n",
       "      <td>26</td>\n",
       "      <td>100</td>\n",
       "      <td>4.582</td>\n",
       "      <td>8.218</td>\n",
       "      <td>0.0</td>\n",
       "      <td>12.8</td>\n",
       "    </tr>\n",
       "    <tr>\n",
       "      <th>2</th>\n",
       "      <td>3</td>\n",
       "      <td>33</td>\n",
       "      <td>2</td>\n",
       "      <td>10</td>\n",
       "      <td>57</td>\n",
       "      <td>6.111</td>\n",
       "      <td>5.802</td>\n",
       "      <td>1.0</td>\n",
       "      <td>20.9</td>\n",
       "    </tr>\n",
       "    <tr>\n",
       "      <th>3</th>\n",
       "      <td>4</td>\n",
       "      <td>29</td>\n",
       "      <td>2</td>\n",
       "      <td>4</td>\n",
       "      <td>19</td>\n",
       "      <td>0.681</td>\n",
       "      <td>0.516</td>\n",
       "      <td>0.0</td>\n",
       "      <td>6.3</td>\n",
       "    </tr>\n",
       "    <tr>\n",
       "      <th>4</th>\n",
       "      <td>5</td>\n",
       "      <td>47</td>\n",
       "      <td>1</td>\n",
       "      <td>31</td>\n",
       "      <td>253</td>\n",
       "      <td>9.308</td>\n",
       "      <td>8.908</td>\n",
       "      <td>0.0</td>\n",
       "      <td>7.2</td>\n",
       "    </tr>\n",
       "  </tbody>\n",
       "</table>\n",
       "</div>"
      ],
      "text/plain": [
       "   Customer Id  Age  Edu  Years Employed  Income  Card Debt  Other Debt  \\\n",
       "0            1   41    2               6      19      0.124       1.073   \n",
       "1            2   47    1              26     100      4.582       8.218   \n",
       "2            3   33    2              10      57      6.111       5.802   \n",
       "3            4   29    2               4      19      0.681       0.516   \n",
       "4            5   47    1              31     253      9.308       8.908   \n",
       "\n",
       "   Defaulted  DebtIncomeRatio  \n",
       "0        0.0              6.3  \n",
       "1        0.0             12.8  \n",
       "2        1.0             20.9  \n",
       "3        0.0              6.3  \n",
       "4        0.0              7.2  "
      ]
     },
     "execution_count": 19,
     "metadata": {},
     "output_type": "execute_result"
    }
   ],
   "source": [
    "df = cust_df.drop('Address', axis=1)\n",
    "df.head()\n"
   ]
  },
  {
   "cell_type": "markdown",
   "id": "47b1ea6e-e11a-4742-9b29-d2e4157b207e",
   "metadata": {},
   "source": [
    "**nan_to_num and Standard Scalar Data**\n",
    "\n",
    "nan_to_num:\n",
    "Replace nan with zero and inf with finite numbers. Returns an array or scalar replacing Not a Number (NaN) with zero, (positive) infinity with a very large number and negative infinity with a very small (or negative) number.\n",
    "(dftaFrf)**"
   ]
  },
  {
   "cell_type": "code",
   "execution_count": 23,
   "id": "1b35c143-e356-4d1a-a66f-3e43a8d0e900",
   "metadata": {},
   "outputs": [
    {
     "data": {
      "text/plain": [
       "(850, 8)"
      ]
     },
     "execution_count": 23,
     "metadata": {},
     "output_type": "execute_result"
    }
   ],
   "source": [
    "from sklearn.preprocessing import StandardScaler\n",
    "X = df.values[:,1:]\n",
    "X = np.nan_to_num(X)\n",
    "Clus_dataSet = StandardScaler().fit_transform(X)\n",
    "Clus_dataSet.shape"
   ]
  },
  {
   "cell_type": "code",
   "execution_count": 25,
   "id": "ae006c9a-f1ce-450d-9ca0-b1945636f9e3",
   "metadata": {},
   "outputs": [
    {
     "name": "stdout",
     "output_type": "stream",
     "text": [
      "[[41.     2.     6.    ...  1.073  0.     6.3  ]\n",
      " [47.     1.    26.    ...  8.218  0.    12.8  ]\n",
      " [33.     2.    10.    ...  5.802  1.    20.9  ]\n",
      " ...\n",
      " [25.     4.     0.    ...  3.21   1.    33.4  ]\n",
      " [32.     1.    12.    ...  0.696  0.     2.9  ]\n",
      " [52.     1.    16.    ...  3.638  0.     8.6  ]]\n"
     ]
    }
   ],
   "source": [
    "Clus_dataSet\n",
    "print(X)"
   ]
  },
  {
   "cell_type": "markdown",
   "id": "f971e94b-1196-4475-9529-c0cd9c3955a4",
   "metadata": {},
   "source": [
    "**Setting up K-Means Clustering**\n",
    "\n",
    "\n",
    "\n",
    "The KMeans class has many parameters that can be used, but we will be using these three:\n",
    "<ul>\n",
    "    <li> <b>init</b>: Initialization method of the centroids. </li>\n",
    "    <ul>\n",
    "        <li> Value will be: \"k-means++\" </li>\n",
    "        <li> k-means++: Selects initial cluster centers for k-mean clustering in a smart way to speed up convergence.</li>\n",
    "    </ul>\n",
    "    <li> <b>n_clusters</b>: The number of clusters to form as well as the number of centroids to generate. </li>\n",
    "    <ul> <li> Value will be: 4 (since we have 4 centers)</li> </ul>\n",
    "    <li> <b>n_init</b>: Number of time the k-means algorithm will be run with different centroid seeds. The final results will be the best output of n_init consecutive runs in terms of inertia. </li>\n",
    "    <ul> <li> Value will be: 12 </li> </ul>\n",
    "</ul>\n",
    "\n",
    "Initialize KMeans with these parameters, where the output parameter is called <b>k_means</b>.\n",
    "\n",
    "Fit the KMeans model with the feature matrix \n",
    "\n",
    "Grab the labels for each point in the model using k_means.labels_  attribute "
   ]
  },
  {
   "cell_type": "code",
   "execution_count": 28,
   "id": "9b25c32a-0a9f-495e-8f95-07e7469c1809",
   "metadata": {
    "scrolled": true
   },
   "outputs": [
    {
     "name": "stdout",
     "output_type": "stream",
     "text": [
      "[1 0 1 1 2 0 1 0 1 0 0 1 1 1 1 1 1 1 0 1 1 1 1 0 0 0 1 1 0 1 0 1 1 1 1 1 1\n",
      " 1 1 0 1 0 1 2 1 0 1 1 1 0 0 1 1 0 0 1 1 1 0 1 0 1 0 0 1 1 0 1 1 1 0 0 0 1\n",
      " 1 1 1 1 0 1 0 0 2 1 1 1 1 1 1 1 0 1 1 1 1 1 1 1 1 1 1 0 0 1 1 1 1 1 1 0 1\n",
      " 1 1 1 1 1 1 1 0 1 1 1 1 1 1 0 1 1 1 1 1 0 1 1 1 1 0 1 1 1 1 1 1 1 0 1 0 1\n",
      " 1 1 1 1 1 1 0 1 0 0 1 0 1 1 0 1 1 1 1 1 1 1 0 1 1 1 1 1 1 1 1 0 1 1 1 0 1\n",
      " 1 1 1 1 0 1 1 0 1 0 1 1 0 2 1 0 1 1 1 1 1 1 2 0 1 1 1 1 0 1 1 0 0 1 0 1 0\n",
      " 1 1 1 1 0 1 1 1 1 1 1 1 0 1 1 1 1 1 1 1 1 1 1 2 0 1 1 1 1 1 1 1 0 1 1 1 1\n",
      " 1 1 0 1 1 0 1 1 0 1 1 1 1 1 1 1 1 1 1 1 1 1 0 0 1 0 1 0 1 0 0 1 1 1 1 1 1\n",
      " 1 1 1 0 0 0 1 1 1 0 1 1 1 1 1 1 1 1 1 1 1 1 1 1 0 1 0 1 1 1 1 1 0 1 0 0 1\n",
      " 1 1 1 1 0 1 1 1 1 1 1 0 1 1 0 1 1 0 1 1 1 1 1 0 1 1 1 2 1 1 1 0 1 0 0 0 1\n",
      " 1 1 0 1 1 1 1 1 1 1 1 1 1 1 0 1 0 1 1 1 1 1 1 1 1 1 1 0 1 1 1 1 1 1 1 1 1\n",
      " 1 0 1 1 0 1 1 1 1 0 1 1 1 1 0 1 1 0 1 1 1 1 1 1 1 1 1 0 1 1 1 0 1 1 1 1 2\n",
      " 1 1 1 1 1 1 0 1 1 1 2 1 1 1 1 0 1 2 1 1 1 1 0 1 0 0 0 1 1 0 0 1 1 1 1 1 1\n",
      " 1 0 1 1 1 1 0 1 1 1 0 1 0 1 1 1 0 1 1 1 1 0 0 1 1 1 1 0 1 1 1 1 0 1 1 1 1\n",
      " 1 0 0 1 1 1 1 1 1 1 1 1 1 1 2 0 1 1 1 1 1 1 0 1 1 1 1 0 1 1 0 1 1 2 1 2 1\n",
      " 1 2 1 1 1 1 1 1 1 1 1 0 1 0 1 1 2 1 1 1 1 1 1 1 1 0 1 1 1 1 1 1 1 1 0 1 0\n",
      " 1 1 1 1 1 1 0 1 1 1 1 0 1 0 1 1 1 1 1 1 1 1 1 1 1 1 1 1 0 1 1 1 1 1 1 1 0\n",
      " 0 1 1 0 1 0 1 1 0 1 0 1 1 2 1 0 1 0 1 1 1 1 1 0 0 1 1 1 1 0 1 1 1 0 0 1 1\n",
      " 0 1 1 1 0 1 2 1 1 0 1 1 1 1 1 1 1 0 1 1 1 0 1 1 1 1 1 0 1 1 0 1 1 1 1 1 1\n",
      " 1 1 0 1 1 0 1 0 1 0 0 1 1 1 0 1 0 1 1 1 1 1 0 1 1 1 1 0 0 1 1 0 0 1 1 1 1\n",
      " 1 0 1 1 1 1 0 1 1 1 1 1 1 1 1 1 1 1 0 1 0 0 1 0 1 0 0 1 1 0 1 1 1 1 1 0 0\n",
      " 1 1 1 1 1 1 1 0 1 1 1 1 1 1 2 0 0 1 1 1 1 1 1 1 0 1 1 1 1 1 1 0 1 1 1 1 1\n",
      " 1 1 1 1 1 1 1 1 1 1 1 0 1 1 1 1 1 1 1 1 1 1 1 1 1 1 1 0 1 1 1 1 1 1 1 0]\n"
     ]
    }
   ],
   "source": [
    "clusterNum = 3\n",
    "k_means = KMeans(init = \"k-means++\", n_clusters = clusterNum, n_init = 12)\n",
    "k_means.fit(X)\n",
    "labels = k_means.labels_\n",
    "print(labels)"
   ]
  },
  {
   "cell_type": "code",
   "execution_count": 34,
   "id": "d2cb5f9d-0667-44b3-b648-d856c9bd6cc4",
   "metadata": {},
   "outputs": [
    {
     "data": {
      "text/plain": [
       "array([[4.13333333e+01, 1.95628415e+00, 1.52568306e+01, 8.39289617e+01,\n",
       "        3.10363934e+00, 5.76527869e+00, 1.36612022e-01, 1.07245902e+01],\n",
       "       [3.29645609e+01, 1.61479199e+00, 6.37442219e+00, 3.11648690e+01,\n",
       "        1.03254083e+00, 2.10413251e+00, 2.37288136e-01, 1.00947612e+01],\n",
       "       [4.53888889e+01, 2.66666667e+00, 1.95555556e+01, 2.27166667e+02,\n",
       "        5.67844444e+00, 1.09071667e+01, 2.22222222e-01, 7.32222222e+00]])"
      ]
     },
     "execution_count": 34,
     "metadata": {},
     "output_type": "execute_result"
    }
   ],
   "source": [
    "# Get the coordinates of the cluster centers using KMeans' .cluster_centers_ and save it as k_means_cluster_centers .\n",
    "k_means_cluster_centers = k_means.cluster_centers_\n",
    "k_means_cluster_centers"
   ]
  },
  {
   "cell_type": "code",
   "execution_count": 36,
   "id": "0b9e179d-134f-41ba-808e-64c8988085b2",
   "metadata": {},
   "outputs": [
    {
     "data": {
      "text/html": [
       "<div>\n",
       "<style scoped>\n",
       "    .dataframe tbody tr th:only-of-type {\n",
       "        vertical-align: middle;\n",
       "    }\n",
       "\n",
       "    .dataframe tbody tr th {\n",
       "        vertical-align: top;\n",
       "    }\n",
       "\n",
       "    .dataframe thead th {\n",
       "        text-align: right;\n",
       "    }\n",
       "</style>\n",
       "<table border=\"1\" class=\"dataframe\">\n",
       "  <thead>\n",
       "    <tr style=\"text-align: right;\">\n",
       "      <th></th>\n",
       "      <th>Customer Id</th>\n",
       "      <th>Age</th>\n",
       "      <th>Edu</th>\n",
       "      <th>Years Employed</th>\n",
       "      <th>Income</th>\n",
       "      <th>Card Debt</th>\n",
       "      <th>Other Debt</th>\n",
       "      <th>Defaulted</th>\n",
       "      <th>DebtIncomeRatio</th>\n",
       "      <th>Clus_km</th>\n",
       "    </tr>\n",
       "  </thead>\n",
       "  <tbody>\n",
       "    <tr>\n",
       "      <th>0</th>\n",
       "      <td>1</td>\n",
       "      <td>41</td>\n",
       "      <td>2</td>\n",
       "      <td>6</td>\n",
       "      <td>19</td>\n",
       "      <td>0.124</td>\n",
       "      <td>1.073</td>\n",
       "      <td>0.0</td>\n",
       "      <td>6.3</td>\n",
       "      <td>1</td>\n",
       "    </tr>\n",
       "    <tr>\n",
       "      <th>1</th>\n",
       "      <td>2</td>\n",
       "      <td>47</td>\n",
       "      <td>1</td>\n",
       "      <td>26</td>\n",
       "      <td>100</td>\n",
       "      <td>4.582</td>\n",
       "      <td>8.218</td>\n",
       "      <td>0.0</td>\n",
       "      <td>12.8</td>\n",
       "      <td>0</td>\n",
       "    </tr>\n",
       "    <tr>\n",
       "      <th>2</th>\n",
       "      <td>3</td>\n",
       "      <td>33</td>\n",
       "      <td>2</td>\n",
       "      <td>10</td>\n",
       "      <td>57</td>\n",
       "      <td>6.111</td>\n",
       "      <td>5.802</td>\n",
       "      <td>1.0</td>\n",
       "      <td>20.9</td>\n",
       "      <td>1</td>\n",
       "    </tr>\n",
       "    <tr>\n",
       "      <th>3</th>\n",
       "      <td>4</td>\n",
       "      <td>29</td>\n",
       "      <td>2</td>\n",
       "      <td>4</td>\n",
       "      <td>19</td>\n",
       "      <td>0.681</td>\n",
       "      <td>0.516</td>\n",
       "      <td>0.0</td>\n",
       "      <td>6.3</td>\n",
       "      <td>1</td>\n",
       "    </tr>\n",
       "    <tr>\n",
       "      <th>4</th>\n",
       "      <td>5</td>\n",
       "      <td>47</td>\n",
       "      <td>1</td>\n",
       "      <td>31</td>\n",
       "      <td>253</td>\n",
       "      <td>9.308</td>\n",
       "      <td>8.908</td>\n",
       "      <td>0.0</td>\n",
       "      <td>7.2</td>\n",
       "      <td>2</td>\n",
       "    </tr>\n",
       "  </tbody>\n",
       "</table>\n",
       "</div>"
      ],
      "text/plain": [
       "   Customer Id  Age  Edu  Years Employed  Income  Card Debt  Other Debt  \\\n",
       "0            1   41    2               6      19      0.124       1.073   \n",
       "1            2   47    1              26     100      4.582       8.218   \n",
       "2            3   33    2              10      57      6.111       5.802   \n",
       "3            4   29    2               4      19      0.681       0.516   \n",
       "4            5   47    1              31     253      9.308       8.908   \n",
       "\n",
       "   Defaulted  DebtIncomeRatio  Clus_km  \n",
       "0        0.0              6.3        1  \n",
       "1        0.0             12.8        0  \n",
       "2        1.0             20.9        1  \n",
       "3        0.0              6.3        1  \n",
       "4        0.0              7.2        2  "
      ]
     },
     "execution_count": 36,
     "metadata": {},
     "output_type": "execute_result"
    }
   ],
   "source": [
    "df[\"Clus_km\"] = labels\n",
    "df.head(5)"
   ]
  },
  {
   "cell_type": "code",
   "execution_count": 38,
   "id": "cdc9b4ad-390e-4d87-9435-c01ebc008788",
   "metadata": {},
   "outputs": [
    {
     "data": {
      "text/html": [
       "<div>\n",
       "<style scoped>\n",
       "    .dataframe tbody tr th:only-of-type {\n",
       "        vertical-align: middle;\n",
       "    }\n",
       "\n",
       "    .dataframe tbody tr th {\n",
       "        vertical-align: top;\n",
       "    }\n",
       "\n",
       "    .dataframe thead th {\n",
       "        text-align: right;\n",
       "    }\n",
       "</style>\n",
       "<table border=\"1\" class=\"dataframe\">\n",
       "  <thead>\n",
       "    <tr style=\"text-align: right;\">\n",
       "      <th></th>\n",
       "      <th>Customer Id</th>\n",
       "      <th>Age</th>\n",
       "      <th>Edu</th>\n",
       "      <th>Years Employed</th>\n",
       "      <th>Income</th>\n",
       "      <th>Card Debt</th>\n",
       "      <th>Other Debt</th>\n",
       "      <th>Defaulted</th>\n",
       "      <th>DebtIncomeRatio</th>\n",
       "    </tr>\n",
       "    <tr>\n",
       "      <th>Clus_km</th>\n",
       "      <th></th>\n",
       "      <th></th>\n",
       "      <th></th>\n",
       "      <th></th>\n",
       "      <th></th>\n",
       "      <th></th>\n",
       "      <th></th>\n",
       "      <th></th>\n",
       "      <th></th>\n",
       "    </tr>\n",
       "  </thead>\n",
       "  <tbody>\n",
       "    <tr>\n",
       "      <th>0</th>\n",
       "      <td>402.295082</td>\n",
       "      <td>41.333333</td>\n",
       "      <td>1.956284</td>\n",
       "      <td>15.256831</td>\n",
       "      <td>83.928962</td>\n",
       "      <td>3.103639</td>\n",
       "      <td>5.765279</td>\n",
       "      <td>0.171233</td>\n",
       "      <td>10.724590</td>\n",
       "    </tr>\n",
       "    <tr>\n",
       "      <th>1</th>\n",
       "      <td>432.468413</td>\n",
       "      <td>32.964561</td>\n",
       "      <td>1.614792</td>\n",
       "      <td>6.374422</td>\n",
       "      <td>31.164869</td>\n",
       "      <td>1.032541</td>\n",
       "      <td>2.104133</td>\n",
       "      <td>0.285185</td>\n",
       "      <td>10.094761</td>\n",
       "    </tr>\n",
       "    <tr>\n",
       "      <th>2</th>\n",
       "      <td>410.166667</td>\n",
       "      <td>45.388889</td>\n",
       "      <td>2.666667</td>\n",
       "      <td>19.555556</td>\n",
       "      <td>227.166667</td>\n",
       "      <td>5.678444</td>\n",
       "      <td>10.907167</td>\n",
       "      <td>0.285714</td>\n",
       "      <td>7.322222</td>\n",
       "    </tr>\n",
       "  </tbody>\n",
       "</table>\n",
       "</div>"
      ],
      "text/plain": [
       "         Customer Id        Age       Edu  Years Employed      Income  \\\n",
       "Clus_km                                                                 \n",
       "0         402.295082  41.333333  1.956284       15.256831   83.928962   \n",
       "1         432.468413  32.964561  1.614792        6.374422   31.164869   \n",
       "2         410.166667  45.388889  2.666667       19.555556  227.166667   \n",
       "\n",
       "         Card Debt  Other Debt  Defaulted  DebtIncomeRatio  \n",
       "Clus_km                                                     \n",
       "0         3.103639    5.765279   0.171233        10.724590  \n",
       "1         1.032541    2.104133   0.285185        10.094761  \n",
       "2         5.678444   10.907167   0.285714         7.322222  "
      ]
     },
     "execution_count": 38,
     "metadata": {},
     "output_type": "execute_result"
    }
   ],
   "source": [
    "df.groupby('Clus_km').mean()"
   ]
  },
  {
   "cell_type": "code",
   "execution_count": 40,
   "id": "b113152e-7fda-4f6e-af15-875316c33384",
   "metadata": {},
   "outputs": [
    {
     "name": "stdout",
     "output_type": "stream",
     "text": [
      "[[ 41.      2.      6.     19.      0.124   1.073]\n",
      " [ 47.      1.     26.    100.      4.582   8.218]\n",
      " [ 33.      2.     10.     57.      6.111   5.802]\n",
      " ...\n",
      " [ 25.      4.      0.     18.      2.802   3.21 ]\n",
      " [ 32.      1.     12.     28.      0.116   0.696]\n",
      " [ 52.      1.     16.     64.      1.866   3.638]]\n"
     ]
    }
   ],
   "source": [
    "print(X[:,0:6])"
   ]
  },
  {
   "cell_type": "code",
   "execution_count": 66,
   "id": "8b68c58c-7c32-4095-b809-e4d4e94f305f",
   "metadata": {},
   "outputs": [
    {
     "data": {
      "image/png": "[encoded data removed]",
      "text/plain": [
       "<Figure size 640x480 with 1 Axes>"
      ]
     },
     "metadata": {},
     "output_type": "display_data"
    }
   ],
   "source": [
    "area = np.pi * (X[:, 1])**2  \n",
    "plt.scatter(X[:, 0], X[:,3], s=area, c=labels.astype(float), alpha=0.5) \n",
    "# Use built-in 'float', alpha alpha value sets the face transparency for objects in the current axes that support transparency.\n",
    "#Specify value as 'clear' or 'opaque' , or as a number in the range [0, 1]. \n",
    "#A value of 0 makes the objects transparent, and value of 1 makes the objects fully opaque.\n",
    "plt.xlabel('Age', fontsize=18)\n",
    "plt.ylabel('Income', fontsize=16)\n",
    "\n",
    "plt.show()"
   ]
  },
  {
   "cell_type": "markdown",
   "id": "6e87e594-7143-4a8d-9829-fbabb1e00c9c",
   "metadata": {},
   "source": [
    "**Run Cluster Analysis and Plot Elbow Curve**"
   ]
  },
  {
   "cell_type": "code",
   "execution_count": 70,
   "id": "48a364e5-5b98-449a-a290-cfa6f59acde2",
   "metadata": {},
   "outputs": [
    {
     "data": {
      "text/plain": [
       "[<matplotlib.lines.Line2D at 0x1b664fdb1a0>]"
      ]
     },
     "execution_count": 70,
     "metadata": {},
     "output_type": "execute_result"
    },
    {
     "data": {
      "image/png": "[encoded data removed]",
      "text/plain": [
       "<Figure size 640x480 with 1 Axes>"
      ]
     },
     "metadata": {},
     "output_type": "display_data"
    }
   ],
   "source": [
    "from sklearn.cluster import KMeans\n",
    "K=range(1,20)\n",
    "WCSS=[]\n",
    "for i in K:\n",
    "  kmeans=KMeans(n_clusters=i,init='k-means++')\n",
    "  kmeans.fit(X)\n",
    "  WCSS.append(kmeans.inertia_)\n",
    "  WCSS\n",
    "  \n",
    "plt.plot(K,WCSS)"
   ]
  },
  {
   "cell_type": "markdown",
   "id": "62b84e67-f524-47d3-b505-9a7d2123bd7c",
   "metadata": {},
   "source": [
    "**Store the number of cluster and WSS Score in dataframe**"
   ]
  },
  {
   "cell_type": "code",
   "execution_count": 76,
   "id": "f6b8b87c-d1a1-4009-b422-d440fb25884e",
   "metadata": {},
   "outputs": [
    {
     "data": {
      "text/html": [
       "<div>\n",
       "<style scoped>\n",
       "    .dataframe tbody tr th:only-of-type {\n",
       "        vertical-align: middle;\n",
       "    }\n",
       "\n",
       "    .dataframe tbody tr th {\n",
       "        vertical-align: top;\n",
       "    }\n",
       "\n",
       "    .dataframe thead th {\n",
       "        text-align: right;\n",
       "    }\n",
       "</style>\n",
       "<table border=\"1\" class=\"dataframe\">\n",
       "  <thead>\n",
       "    <tr style=\"text-align: right;\">\n",
       "      <th></th>\n",
       "      <th>Cluster</th>\n",
       "      <th>WCSS</th>\n",
       "    </tr>\n",
       "  </thead>\n",
       "  <tbody>\n",
       "    <tr>\n",
       "      <th>0</th>\n",
       "      <td>1</td>\n",
       "      <td>1.408001e+06</td>\n",
       "    </tr>\n",
       "    <tr>\n",
       "      <th>1</th>\n",
       "      <td>2</td>\n",
       "      <td>6.559937e+05</td>\n",
       "    </tr>\n",
       "    <tr>\n",
       "      <th>2</th>\n",
       "      <td>3</td>\n",
       "      <td>3.818507e+05</td>\n",
       "    </tr>\n",
       "    <tr>\n",
       "      <th>3</th>\n",
       "      <td>4</td>\n",
       "      <td>2.620704e+05</td>\n",
       "    </tr>\n",
       "    <tr>\n",
       "      <th>4</th>\n",
       "      <td>5</td>\n",
       "      <td>2.149420e+05</td>\n",
       "    </tr>\n",
       "    <tr>\n",
       "      <th>5</th>\n",
       "      <td>6</td>\n",
       "      <td>1.799374e+05</td>\n",
       "    </tr>\n",
       "    <tr>\n",
       "      <th>6</th>\n",
       "      <td>7</td>\n",
       "      <td>1.736426e+05</td>\n",
       "    </tr>\n",
       "    <tr>\n",
       "      <th>7</th>\n",
       "      <td>8</td>\n",
       "      <td>1.439315e+05</td>\n",
       "    </tr>\n",
       "    <tr>\n",
       "      <th>8</th>\n",
       "      <td>9</td>\n",
       "      <td>1.344283e+05</td>\n",
       "    </tr>\n",
       "    <tr>\n",
       "      <th>9</th>\n",
       "      <td>10</td>\n",
       "      <td>1.439541e+05</td>\n",
       "    </tr>\n",
       "    <tr>\n",
       "      <th>10</th>\n",
       "      <td>11</td>\n",
       "      <td>1.123432e+05</td>\n",
       "    </tr>\n",
       "    <tr>\n",
       "      <th>11</th>\n",
       "      <td>12</td>\n",
       "      <td>1.046086e+05</td>\n",
       "    </tr>\n",
       "    <tr>\n",
       "      <th>12</th>\n",
       "      <td>13</td>\n",
       "      <td>9.911617e+04</td>\n",
       "    </tr>\n",
       "    <tr>\n",
       "      <th>13</th>\n",
       "      <td>14</td>\n",
       "      <td>9.394561e+04</td>\n",
       "    </tr>\n",
       "    <tr>\n",
       "      <th>14</th>\n",
       "      <td>15</td>\n",
       "      <td>8.804089e+04</td>\n",
       "    </tr>\n",
       "    <tr>\n",
       "      <th>15</th>\n",
       "      <td>16</td>\n",
       "      <td>8.992117e+04</td>\n",
       "    </tr>\n",
       "    <tr>\n",
       "      <th>16</th>\n",
       "      <td>17</td>\n",
       "      <td>8.369579e+04</td>\n",
       "    </tr>\n",
       "    <tr>\n",
       "      <th>17</th>\n",
       "      <td>18</td>\n",
       "      <td>8.100988e+04</td>\n",
       "    </tr>\n",
       "    <tr>\n",
       "      <th>18</th>\n",
       "      <td>19</td>\n",
       "      <td>7.976745e+04</td>\n",
       "    </tr>\n",
       "  </tbody>\n",
       "</table>\n",
       "</div>"
      ],
      "text/plain": [
       "    Cluster          WCSS\n",
       "0         1  1.408001e+06\n",
       "1         2  6.559937e+05\n",
       "2         3  3.818507e+05\n",
       "3         4  2.620704e+05\n",
       "4         5  2.149420e+05\n",
       "5         6  1.799374e+05\n",
       "6         7  1.736426e+05\n",
       "7         8  1.439315e+05\n",
       "8         9  1.344283e+05\n",
       "9        10  1.439541e+05\n",
       "10       11  1.123432e+05\n",
       "11       12  1.046086e+05\n",
       "12       13  9.911617e+04\n",
       "13       14  9.394561e+04\n",
       "14       15  8.804089e+04\n",
       "15       16  8.992117e+04\n",
       "16       17  8.369579e+04\n",
       "17       18  8.100988e+04\n",
       "18       19  7.976745e+04"
      ]
     },
     "execution_count": 76,
     "metadata": {},
     "output_type": "execute_result"
    }
   ],
   "source": [
    "mycenters=pd.DataFrame({'Cluster':K,\"WCSS\":WCSS})\n",
    "mycenters"
   ]
  },
  {
   "cell_type": "code",
   "execution_count": 80,
   "id": "8265599c-bfc0-4973-9141-7857092b123a",
   "metadata": {},
   "outputs": [
    {
     "data": {
      "text/plain": [
       "<Axes: xlabel='Cluster', ylabel='WCSS'>"
      ]
     },
     "execution_count": 80,
     "metadata": {},
     "output_type": "execute_result"
    },
    {
     "data": {
      "image/png": "[encoded data removed]",
      "text/plain": [
       "<Figure size 640x480 with 1 Axes>"
      ]
     },
     "metadata": {},
     "output_type": "display_data"
    }
   ],
   "source": [
    "sns.scatterplot(x=\"Cluster\",y=\"WCSS\",data=mycenters, marker='+')"
   ]
  },
  {
   "cell_type": "markdown",
   "id": "47095464-3665-4f4f-9382-372463e06cb7",
   "metadata": {},
   "source": [
    "We get 5 cluster i.e.K=5"
   ]
  },
  {
   "cell_type": "markdown",
   "id": "da1448a4-b933-4824-b6c5-218b39fd1fd5",
   "metadata": {},
   "source": [
    "**Silhouette method to identifyf clusters**"
   ]
  },
  {
   "cell_type": "code",
   "execution_count": 105,
   "id": "31eba0b9-afac-45cc-aebb-500f424cf83d",
   "metadata": {},
   "outputs": [
    {
     "name": "stdout",
     "output_type": "stream",
     "text": [
      "Cluster 2 Score 0.6857530340991117\n",
      "Cluster 3 Score 0.565899144232353\n",
      "Cluster 4 Score 0.5202999123367267\n",
      "Cluster 5 Score 0.3504201739953672\n",
      "Cluster 6 Score 0.2678470487741821\n",
      "Cluster 7 Score 0.2733965104892317\n",
      "Cluster 8 Score 0.2590191908240066\n",
      "Cluster 9 Score 0.26680009531130333\n",
      "Cluster 10 Score 0.25888065841568475\n",
      "Cluster 11 Score 0.2459184700917345\n",
      "Cluster 12 Score 0.25422863046051214\n",
      "Cluster 13 Score 0.234595018480288\n",
      "Cluster 14 Score 0.24989613191821364\n",
      "Cluster 15 Score 0.2351808670897485\n",
      "Cluster 16 Score 0.23976779336070334\n",
      "Cluster 17 Score 0.2159716970486498\n",
      "Cluster 18 Score 0.21643120792178439\n",
      "Cluster 19 Score 0.20270415228168354\n"
     ]
    },
    {
     "data": {
      "image/png": "[encoded data removed]",
      "text/plain": [
       "<Figure size 640x480 with 1 Axes>"
      ]
     },
     "metadata": {},
     "output_type": "display_data"
    }
   ],
   "source": [
    "\n",
    "import sklearn.metrics as metrics\n",
    "from sklearn.cluster import KMeans\n",
    "from sklearn.metrics import silhouette_score\n",
    "silh=[]\n",
    "\n",
    "for i in range(2,20):\n",
    "    kmeans = KMeans(n_clusters=i)\n",
    "    #labels=kmeans.fit_predict(X)\n",
    "    silhouette_avg=silhouette_score(X, kmeans.fit_predict(X))\n",
    "    silh.append(silhouette_avg)\n",
    "    print('Cluster',i,'Score',silhouette_avg)\n",
    "\n",
    "plt.bar(range(2,20),silh)\n",
    "plt.show()"
   ]
  },
  {
   "cell_type": "markdown",
   "id": "67e4bb09-f159-4155-b3e2-e1dd70add2a4",
   "metadata": {},
   "source": [
    "Elbow curve and Silhouette plots both are very useful techniques for finding the optimal K for k-means clustering. In real-world data sets, you will find quite a lot of cases where the elbow curve is not sufficient to find the right ‘K’. In such cases, you should use the silhouette plot to figure out the optimal number of clusters for your dataset. I would recommend using both the techniques together to figure out the optimal K for k-means clustering.    \n",
    "\n",
    "      "
   ]
  },
  {
   "cell_type": "code",
   "execution_count": 96,
   "id": "1380bea9-c570-414f-9cb7-85f951c0dd89",
   "metadata": {},
   "outputs": [
    {
     "name": "stdout",
     "output_type": "stream",
     "text": [
      "k: 2 silhouette_coefficients: [0.6857530340991117]\n",
      "k: 3 silhouette_coefficients: [0.6857530340991117, 0.5616660500867684]\n",
      "k: 4 silhouette_coefficients: [0.6857530340991117, 0.5616660500867684, 0.4720634111054194]\n",
      "k: 5 silhouette_coefficients: [0.6857530340991117, 0.5616660500867684, 0.4720634111054194, 0.3504201739953672]\n",
      "k: 6 silhouette_coefficients: [0.6857530340991117, 0.5616660500867684, 0.4720634111054194, 0.3504201739953672, 0.26834271172311325]\n",
      "k: 7 silhouette_coefficients: [0.6857530340991117, 0.5616660500867684, 0.4720634111054194, 0.3504201739953672, 0.26834271172311325, 0.2732160332762459]\n",
      "k: 8 silhouette_coefficients: [0.6857530340991117, 0.5616660500867684, 0.4720634111054194, 0.3504201739953672, 0.26834271172311325, 0.2732160332762459, 0.2627229721882661]\n",
      "k: 9 silhouette_coefficients: [0.6857530340991117, 0.5616660500867684, 0.4720634111054194, 0.3504201739953672, 0.26834271172311325, 0.2732160332762459, 0.2627229721882661, 0.24854700779794764]\n",
      "k: 10 silhouette_coefficients: [0.6857530340991117, 0.5616660500867684, 0.4720634111054194, 0.3504201739953672, 0.26834271172311325, 0.2732160332762459, 0.2627229721882661, 0.24854700779794764, 0.25689401386010846]\n",
      "k: 11 silhouette_coefficients: [0.6857530340991117, 0.5616660500867684, 0.4720634111054194, 0.3504201739953672, 0.26834271172311325, 0.2732160332762459, 0.2627229721882661, 0.24854700779794764, 0.25689401386010846, 0.2352285077642316]\n",
      "k: 12 silhouette_coefficients: [0.6857530340991117, 0.5616660500867684, 0.4720634111054194, 0.3504201739953672, 0.26834271172311325, 0.2732160332762459, 0.2627229721882661, 0.24854700779794764, 0.25689401386010846, 0.2352285077642316, 0.23907367959876652]\n",
      "k: 13 silhouette_coefficients: [0.6857530340991117, 0.5616660500867684, 0.4720634111054194, 0.3504201739953672, 0.26834271172311325, 0.2732160332762459, 0.2627229721882661, 0.24854700779794764, 0.25689401386010846, 0.2352285077642316, 0.23907367959876652, 0.21291339338751647]\n",
      "k: 14 silhouette_coefficients: [0.6857530340991117, 0.5616660500867684, 0.4720634111054194, 0.3504201739953672, 0.26834271172311325, 0.2732160332762459, 0.2627229721882661, 0.24854700779794764, 0.25689401386010846, 0.2352285077642316, 0.23907367959876652, 0.21291339338751647, 0.22040249191398947]\n",
      "k: 15 silhouette_coefficients: [0.6857530340991117, 0.5616660500867684, 0.4720634111054194, 0.3504201739953672, 0.26834271172311325, 0.2732160332762459, 0.2627229721882661, 0.24854700779794764, 0.25689401386010846, 0.2352285077642316, 0.23907367959876652, 0.21291339338751647, 0.22040249191398947, 0.22041847089734193]\n",
      "k: 16 silhouette_coefficients: [0.6857530340991117, 0.5616660500867684, 0.4720634111054194, 0.3504201739953672, 0.26834271172311325, 0.2732160332762459, 0.2627229721882661, 0.24854700779794764, 0.25689401386010846, 0.2352285077642316, 0.23907367959876652, 0.21291339338751647, 0.22040249191398947, 0.22041847089734193, 0.21458584191992253]\n",
      "k: 17 silhouette_coefficients: [0.6857530340991117, 0.5616660500867684, 0.4720634111054194, 0.3504201739953672, 0.26834271172311325, 0.2732160332762459, 0.2627229721882661, 0.24854700779794764, 0.25689401386010846, 0.2352285077642316, 0.23907367959876652, 0.21291339338751647, 0.22040249191398947, 0.22041847089734193, 0.21458584191992253, 0.20088318606910013]\n",
      "k: 18 silhouette_coefficients: [0.6857530340991117, 0.5616660500867684, 0.4720634111054194, 0.3504201739953672, 0.26834271172311325, 0.2732160332762459, 0.2627229721882661, 0.24854700779794764, 0.25689401386010846, 0.2352285077642316, 0.23907367959876652, 0.21291339338751647, 0.22040249191398947, 0.22041847089734193, 0.21458584191992253, 0.20088318606910013, 0.20161449689177183]\n",
      "k: 19 silhouette_coefficients: [0.6857530340991117, 0.5616660500867684, 0.4720634111054194, 0.3504201739953672, 0.26834271172311325, 0.2732160332762459, 0.2627229721882661, 0.24854700779794764, 0.25689401386010846, 0.2352285077642316, 0.23907367959876652, 0.21291339338751647, 0.22040249191398947, 0.22041847089734193, 0.21458584191992253, 0.20088318606910013, 0.20161449689177183, 0.20277155261267682]\n"
     ]
    }
   ],
   "source": [
    "from sklearn.metrics import silhouette_score\n",
    "kmeans_kwargs = {\n",
    "       \"init\": \"random\",\n",
    "       \"n_init\": 10,\n",
    "       \"max_iter\": 300,\n",
    "       \"random_state\": 42,\n",
    "    }\n",
    "\n",
    "\n",
    "# A list holds the silhouette coefficients for each k\n",
    "silhouette_coefficients = []\n",
    "\n",
    " # Notice you start at 2 clusters for silhouette coefficient\n",
    "for k in range(2, 20):\n",
    "     kmeans = KMeans(n_clusters=k, **kmeans_kwargs)\n",
    "     kmeans.fit(X)\n",
    "     score = silhouette_score(X, kmeans.labels_)\n",
    "     silhouette_coefficients.append(score)\n",
    "     print(\"k:\",k,  \"silhouette_coefficients:\",silhouette_coefficients)"
   ]
  },
  {
   "cell_type": "code",
   "execution_count": 99,
   "id": "d013e7ea-152f-4d5f-947b-7a9289eb1556",
   "metadata": {},
   "outputs": [
    {
     "data": {
      "text/plain": [
       "[<matplotlib.lines.Line2D at 0x1b6704504d0>]"
      ]
     },
     "execution_count": 99,
     "metadata": {},
     "output_type": "execute_result"
    },
    {
     "data": {
      "image/png": "[encoded data removed]",
      "text/plain": [
       "<Figure size 600x600 with 1 Axes>"
      ]
     },
     "metadata": {},
     "output_type": "display_data"
    }
   ],
   "source": [
    "\n",
    "import matplotlib.pyplot as plt\n",
    "plt.figure(figsize=(6, 6))\n",
    "plt.plot(range(2, 20), silhouette_coefficients, c=\"#008fd5\", label=\"Silhouette Coefficient\" )"
   ]
  },
  {
   "cell_type": "code",
   "execution_count": 101,
   "id": "6a63b11f-9c1e-464b-9b76-637abfb52b6e",
   "metadata": {},
   "outputs": [
    {
     "data": {
      "text/plain": [
       "<Axes: >"
      ]
     },
     "execution_count": 101,
     "metadata": {},
     "output_type": "execute_result"
    },
    {
     "data": {
      "image/png": "[encoded data removed]",
      "text/plain": [
       "<Figure size 640x480 with 1 Axes>"
      ]
     },
     "metadata": {},
     "output_type": "display_data"
    }
   ],
   "source": [
    "sns.scatterplot(x=range(2,20), y=silhouette_coefficients , marker='+')\n",
    "plt.title('Silhouette coefficients (scatter)')\n",
    "plt.show()"
   ]
  },
  {
   "cell_type": "code",
   "execution_count": null,
   "id": "e4260874-c57b-4388-bead-bf84e4e6d614",
   "metadata": {},
   "outputs": [],
   "source": [
    "\n",
    "# Additional scatter view for the elbow curve\n",
    "sns.scatterplot(x=list(range(2,20)), y=inertias, marker=\"o\")\n",
    "plt.title(\"Elbow WCSS (scatter)\")\n",
    "plt.xlabel(\"k\")\n",
    "plt.ylabel(\"WCSS / Inertia\")\n",
    "plt.grid(True)\n",
    "plt.show()\n"
   ]
  }
 ],
 "metadata": {
  "kernelspec": {
   "display_name": "Python 3 (ipykernel)",
   "language": "python",
   "name": "python3"
  },
  "language_info": {
   "codemirror_mode": {
    "name": "ipython",
    "version": 3
   },
   "file_extension": ".py",
   "mimetype": "text/x-python",
   "name": "python",
   "nbconvert_exporter": "python",
   "pygments_lexer": "ipython3",
   "version": "3.12.4"
  }
 },
 "nbformat": 4,
 "nbformat_minor": 5
}
