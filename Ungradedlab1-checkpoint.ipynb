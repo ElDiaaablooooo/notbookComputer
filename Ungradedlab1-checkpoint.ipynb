{
 "cells": [
  {
   "cell_type": "markdown",
   "id": "fbbafc1a-5760-48bd-b58a-49da66e8d939",
   "metadata": {},
   "source": [
    "**Graded Practice Lab 1: Data Pre-processing/Data Wrangling**\n",
    "\n",
    "Estimated time needed: **30** minutes\n",
    "\n",
    "In this lab, you will use the skills acquired in the module and address the issues of handling missing data, correct the data type of the dataframe attribute and execute the processes of data standardization and data normalization on specific attributes of the dataset."
   ]
  },
  {
   "cell_type": "markdown",
   "id": "b881d5e5-bb86-4463-a0ad-e596507f7ee8",
   "metadata": {},
   "source": [
    "**Objectives**\n",
    "\n",
    "After completing this lab you will be able to:\n",
    "\n",
    " - Task 1: Handle missing data in different ways\n",
    " - Task 2: Correct the data type of different data values as per requirement\n",
    " - Task 3: Standardize and normalize the appropriate data attributes\n",
    " - Task 4: Visualize the data as grouped bar graph using Binning\n",
    " - Task 5: Converting a categorical data into numerical indicator variables"
   ]
  },
  {
   "cell_type": "code",
   "execution_count": null,
   "id": "fa458ff0-46ea-427a-ad5f-f5049e147938",
   "metadata": {},
   "outputs": [],
   "source": [
    "# Importing the required libraries\n",
    "import numpy as np\n",
    "import pandas as pd\n",
    "import matplotlib.pyplot as plt\n",
    "%matplotlib inline"
   ]
  },
  {
   "cell_type": "markdown",
   "id": "9c00f94d-f2df-49da-8bc6-bbdee9a15e4e",
   "metadata": {},
   "source": [
    "First we load data into a `pandas.DataFrame`:"
   ]
  },
  {
   "cell_type": "code",
   "execution_count": null,
   "id": "144d91dc-5980-425b-b97e-c70aa04c4397",
   "metadata": {},
   "outputs": [],
   "source": [
    "filename=\"C:\\\\Users\\\\asif\\\\Desktop\\\\ML Labs\\\\Week2_data\\\\Graded_lab1\\\\laptop_pricing_dataset.csv\""
   ]
  },
  {
   "cell_type": "code",
   "execution_count": null,
   "id": "8647b6e3-10ee-48e2-931a-b4260ef6a3e7",
   "metadata": {},
   "outputs": [],
   "source": [
    "df = pd.read_csv(filename, header=0)"
   ]
  },
  {
   "cell_type": "code",
   "execution_count": null,
   "id": "0c426993-166c-4eb3-bb9e-92c802ec5533",
   "metadata": {},
   "outputs": [],
   "source": [
    "df.info()"
   ]
  },
  {
   "cell_type": "markdown",
   "id": "d8856cea-5f03-412e-a974-fbcbb508c98f",
   "metadata": {},
   "source": [
    "\n",
    "**Task 1: Handle missing data in different ways**\n"
   ]
  },
  {
   "cell_type": "code",
   "execution_count": null,
   "id": "a2b4ebf5-c5b0-4b5a-8eb7-b49f46cf877d",
   "metadata": {},
   "outputs": [],
   "source": [
    "# Write your code below and execute\n"
   ]
  },
  {
   "cell_type": "markdown",
   "id": "fd61607b-16ed-4a8b-823c-d6a5d6a30157",
   "metadata": {},
   "source": [
    "**Task 2: Correct the data type of different data values as per requirement**\n",
    " "
   ]
  },
  {
   "cell_type": "code",
   "execution_count": null,
   "id": "a6b434c6-14c5-4a04-bc75-be3390f6ac4d",
   "metadata": {},
   "outputs": [],
   "source": [
    "# Write your code below and execute\n"
   ]
  },
  {
   "cell_type": "markdown",
   "id": "e5544978-7fa2-4303-bed9-9e05571e873b",
   "metadata": {},
   "source": [
    " **Task 3: Standardize and normalize the appropriate data attributes**\n",
    " "
   ]
  },
  {
   "cell_type": "code",
   "execution_count": null,
   "id": "1c186352-5f1e-45af-8831-a2ca3e3b2e2a",
   "metadata": {},
   "outputs": [],
   "source": [
    "# Write your code below and execute\n"
   ]
  },
  {
   "cell_type": "markdown",
   "id": "b192d9e7-5c11-4e55-98a1-df8fb1bd3197",
   "metadata": {},
   "source": [
    " **Task 4: Visualize the data as grouped bar graph using Binning**\n",
    " "
   ]
  },
  {
   "cell_type": "code",
   "execution_count": null,
   "id": "f416e083-5896-4408-b1eb-df43ca60aa80",
   "metadata": {},
   "outputs": [],
   "source": [
    "# Write your code below and execute\n"
   ]
  },
  {
   "cell_type": "markdown",
   "id": "55ae8477-a6e6-4237-9f0e-bbdd57cf4151",
   "metadata": {},
   "source": [
    "**Task 5: Converting a categorical data into numerical indicator variables**\n"
   ]
  },
  {
   "cell_type": "code",
   "execution_count": null,
   "id": "4e04ebdc-5831-478f-ac6b-b2166839a158",
   "metadata": {},
   "outputs": [],
   "source": [
    "# Write your code below and execute\n"
   ]
  }
 ],
 "metadata": {
  "kernelspec": {
   "display_name": "Python 3 (ipykernel)",
   "language": "python",
   "name": "python3"
  },
  "language_info": {
   "codemirror_mode": {
    "name": "ipython",
    "version": 3
   },
   "file_extension": ".py",
   "mimetype": "text/x-python",
   "name": "python",
   "nbconvert_exporter": "python",
   "pygments_lexer": "ipython3",
   "version": "3.12.4"
  }
 },
 "nbformat": 4,
 "nbformat_minor": 5
}
